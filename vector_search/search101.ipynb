{
 "cells": [
  {
   "cell_type": "markdown",
   "metadata": {},
   "source": [
    "## Non-duplicated Embeddings and Search"
   ]
  },
  {
   "cell_type": "markdown",
   "metadata": {},
   "source": [
    "### Create a database for storing embeddings"
   ]
  },
  {
   "cell_type": "code",
   "execution_count": 1,
   "metadata": {},
   "outputs": [],
   "source": [
    "import sqlite3\n",
    "from datetime import datetime\n",
    "\n",
    "# Create a connection to SQLite database\n",
    "conn = sqlite3.connect('data/embeddings.db')\n",
    "cursor = conn.cursor()"
   ]
  },
  {
   "cell_type": "markdown",
   "metadata": {},
   "source": [
    "**Create Table**"
   ]
  },
  {
   "cell_type": "code",
   "execution_count": 3,
   "metadata": {},
   "outputs": [],
   "source": [
    "cursor.execute('''\n",
    "CREATE TABLE IF NOT EXISTS embedding_registry (\n",
    "    hash_id CHAR(16) PRIMARY KEY,\n",
    "    timestamp INTEGER NOT NULL\n",
    ")\n",
    "''')\n",
    "conn.commit()"
   ]
  },
  {
   "cell_type": "markdown",
   "metadata": {},
   "source": [
    "**Avoid duplicates by checking if the hash is already present in database.**"
   ]
  },
  {
   "cell_type": "code",
   "execution_count": 14,
   "metadata": {},
   "outputs": [
    {
     "name": "stdout",
     "output_type": "stream",
     "text": [
      "Hash exists? False\n"
     ]
    }
   ],
   "source": [
    "from sqlite3 import Cursor\n",
    "\n",
    "\n",
    "def check_hash_exists(cursor: Cursor, hash_id: str):\n",
    "    cursor.execute('SELECT hash_id FROM embedding_registry WHERE hash_id = ?', (hash_id,))\n",
    "    result = cursor.fetchone()\n",
    "    return result is not None\n",
    "\n",
    "print(f\"Hash exists? {check_hash_exists(cursor=cursor,hash_id='1234')}\")"
   ]
  },
  {
   "cell_type": "markdown",
   "metadata": {},
   "source": [
    "**Set Environment Variables**"
   ]
  },
  {
   "cell_type": "code",
   "execution_count": 8,
   "metadata": {},
   "outputs": [],
   "source": [
    "project_id = \"lchain-449703\" \n",
    "location_id= \"us-east1\"\n",
    "index_endpoint = \"projects/889542799366/locations/us-east1/indexEndpoints/2820476023664017408\"\n",
    "index_id = \"projects/889542799366/locations/us-east1/indexes/4404775522265989120\"\n",
    "gcs_bucket = \"achaayans-embedding-basket\""
   ]
  },
  {
   "cell_type": "code",
   "execution_count": null,
   "metadata": {},
   "outputs": [],
   "source": [
    "!gcloud auth login"
   ]
  },
  {
   "cell_type": "markdown",
   "metadata": {},
   "source": [
    "**Initialize VectorStore.** "
   ]
  },
  {
   "cell_type": "code",
   "execution_count": 9,
   "metadata": {},
   "outputs": [],
   "source": [
    "from langchain_google_vertexai import VertexAIEmbeddings\n",
    "from langchain_google_vertexai import (\n",
    "    VectorSearchVectorStore\n",
    ")\n",
    "\n",
    "# Initialize embedding model and vector store\n",
    "embedding_model = VertexAIEmbeddings(model_name=\"text-embedding-005\")\n",
    "vector_store = VectorSearchVectorStore.from_components(\n",
    "    project_id=project_id,\n",
    "    region=location_id,\n",
    "    index_id=index_id,\n",
    "    endpoint_id=index_endpoint,\n",
    "    embedding=embedding_model,\n",
    "    stream_update=True,\n",
    "    gcs_bucket_name=gcs_bucket\n",
    ")"
   ]
  },
  {
   "cell_type": "code",
   "execution_count": 15,
   "metadata": {},
   "outputs": [
    {
     "name": "stdout",
     "output_type": "stream",
     "text": [
      "95dac9d95bf2aa29\n"
     ]
    }
   ],
   "source": [
    "import hashlib\n",
    "\n",
    "def hash_content(text, length=16):\n",
    "    return hashlib.sha256(text.encode('utf-8')).hexdigest()[:length]\n",
    "\n",
    "print(hash_content(\"CIDER Women’s Quilted Puffer Jacket Cropped Long Sleeve Stand Collar Zip Up Trendy Winter Coat\"))"
   ]
  },
  {
   "cell_type": "markdown",
   "metadata": {},
   "source": [
    "**Prepare Data and Metadata** "
   ]
  },
  {
   "cell_type": "code",
   "execution_count": 16,
   "metadata": {},
   "outputs": [],
   "source": [
    "texts=[\n",
    "    \"Wired Headphones with Microphone, K16 On-Ear Headphones for Kids with 3.5MM Jack, Foldable Stereo Bass Headphones for Teens School Amazon Kindle, Fire, Chromebook, Tablet(Light Blue Red)\",\n",
    "    \"Bose QuietComfort Ultra Bluetooth Headphones, Wireless Headphones with Spatial Audio, Over Ear Noise Cancelling with Mic, Up to 24 Hours of Playtime, Black\",\n",
    "    \"All-new Ring Battery Doorbell, Head-to-Toe Video, Live View with Two-Way Talk, and Motion Detection & Alerts (2024 release), Satin Nickel\",\n",
    "    \"Amazon Basics Neoprene Dumbbell Hand Weights\"\n",
    "\n",
    "]\n",
    "metadatas=[\n",
    "    {\"url\":\"https://tinyurl.com/bdzacb45\",\"item\":1,\"category\": \"Headphones\"},\n",
    "    {\"url\":\"https://tinyurl.com/5n7usxur\",\"item\":2,\"category\": \"Headphones\"},\n",
    "    {\"url\":\"https://tinyurl.com/mpt5pttr\",\"item\":3,\"category\": \"security\"},\n",
    "    {\"url\":\"https://tinyurl.com/jxexvkhr\",\"item\":4,\"category\": \"fashion\"},\n",
    "]"
   ]
  },
  {
   "cell_type": "markdown",
   "metadata": {},
   "source": [
    "**Load hash into database. This will be used to track if the document is already available in search index.** "
   ]
  },
  {
   "cell_type": "code",
   "execution_count": 17,
   "metadata": {},
   "outputs": [],
   "source": [
    "\n",
    "def register_embedding(cursor: Cursor, hash_id: str):    \n",
    "    current_time = int(datetime.now().timestamp())\n",
    "    cursor.execute('INSERT INTO embedding_registry (hash_id, timestamp) VALUES (?, ?)', \n",
    "                    (hash_id, current_time))\n",
    "    if cursor.rowcount == 1:\n",
    "        print(f\"Inserted Hash {hash_id} to database\")\n",
    "    else:\n",
    "        print(f\"failed to insert {hash_id}\") "
   ]
  },
  {
   "cell_type": "markdown",
   "metadata": {},
   "source": [
    "**Add document to Vector Store.** "
   ]
  },
  {
   "cell_type": "code",
   "execution_count": 19,
   "metadata": {},
   "outputs": [],
   "source": [
    "def add_document(vector_store, text, metadata):\n",
    "    hash_id = hash_content(text)\n",
    "    try:\n",
    "        if not check_hash_exists(cursor, hash_id):\n",
    "            vector_store.add_texts(texts=[text], metadatas=[metadata])\n",
    "            print(f\"Adding Document text {text}\")\n",
    "            register_embedding(cursor=cursor, hash_id=hash_id)\n",
    "        else:\n",
    "            print(\"Document already added. \")\n",
    "    except Exception as e:\n",
    "        print(f\"Error processing document text {text}: {str(e)}\")"
   ]
  },
  {
   "cell_type": "code",
   "execution_count": 24,
   "metadata": {},
   "outputs": [
    {
     "name": "stdout",
     "output_type": "stream",
     "text": [
      "Document already added. \n",
      "Document already added. \n",
      "Document already added. \n",
      "Document already added. \n"
     ]
    }
   ],
   "source": [
    "for text, metadata in zip(texts, metadatas):\n",
    "    add_document(vector_store, text, metadata)"
   ]
  },
  {
   "cell_type": "markdown",
   "metadata": {},
   "source": [
    "**Search**"
   ]
  },
  {
   "cell_type": "code",
   "execution_count": 23,
   "metadata": {},
   "outputs": [
    {
     "name": "stdout",
     "output_type": "stream",
     "text": [
      "Document : page_content='Bose QuietComfort Ultra Bluetooth Headphones, Wireless Headphones with Spatial Audio, Over Ear Noise Cancelling with Mic, Up to 24 Hours of Playtime, Black' metadata={'shop_id': 'b2cdc37b507b514e', 'url': 'https://tinyurl.com/5n7usxur', 'item': 2, 'category': 'Headphones'} \n",
      " Score : 0.7051407098770142\n",
      "Document : page_content='Wired Headphones with Microphone, K16 On-Ear Headphones for Kids with 3.5MM Jack, Foldable Stereo Bass Headphones for Teens School Amazon Kindle, Fire, Chromebook, Tablet(Light Blue Red)' metadata={'shop_id': 'f0bf7c4c396d3d47', 'url': 'https://tinyurl.com/bdzacb45', 'item': 1, 'category': 'Headphones'} \n",
      " Score : 0.46925270557403564\n",
      "Document : page_content='Amazon Basics Neoprene Dumbbell Hand Weights' metadata={'shop_id': 'd251051ec47407fd', 'url': 'https://tinyurl.com/jxexvkhr', 'item': 4, 'category': 'fashion'} \n",
      " Score : 0.42754489183425903\n",
      "Document : page_content='All-new Ring Battery Doorbell, Head-to-Toe Video, Live View with Two-Way Talk, and Motion Detection & Alerts (2024 release), Satin Nickel' metadata={'shop_id': '854a40dc24c5f79b', 'url': 'https://tinyurl.com/mpt5pttr', 'item': 3, 'category': 'security'} \n",
      " Score : 0.40346845984458923\n"
     ]
    }
   ],
   "source": [
    "documents, scores = zip(*vector_store.similarity_search_with_score(\n",
    "    query=\"Bose\"\n",
    "))\n",
    "\n",
    "for doc, score in zip(documents, scores):\n",
    "        print(f\"Document : {doc} \\n Score : {score}\")\n",
    "\n"
   ]
  },
  {
   "cell_type": "markdown",
   "metadata": {},
   "source": [
    "NEXT: Filter based on score.."
   ]
  }
 ],
 "metadata": {
  "kernelspec": {
   "display_name": ".venv",
   "language": "python",
   "name": "python3"
  },
  "language_info": {
   "codemirror_mode": {
    "name": "ipython",
    "version": 3
   },
   "file_extension": ".py",
   "mimetype": "text/x-python",
   "name": "python",
   "nbconvert_exporter": "python",
   "pygments_lexer": "ipython3",
   "version": "3.13.1"
  }
 },
 "nbformat": 4,
 "nbformat_minor": 2
}
